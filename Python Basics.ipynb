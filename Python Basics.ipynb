{
 "cells": [
  {
   "cell_type": "code",
   "execution_count": 1,
   "id": "d47df45a-b3e0-465a-a3bf-3eec246863e8",
   "metadata": {},
   "outputs": [
    {
     "name": "stdin",
     "output_type": "stream",
     "text": [
      "Please enter value for x:  10\n",
      "Please enter value for y:  20\n"
     ]
    },
    {
     "name": "stdout",
     "output_type": "stream",
     "text": [
      "The Value of P after swapping:  20\n",
      "The Value of Q after swapping:  10\n"
     ]
    }
   ],
   "source": [
    "# 1. Declare two variables, `x` and `y`, and assign them integer values. Swap the\n",
    "# values of these variables without using any temporary variable.\n",
    "\n",
    "x = int( input(\"Please enter value for x: \"))  \n",
    "y = int( input(\"Please enter value for y: \"))  \n",
    "   \n",
    "x=x+y\n",
    "y=x-y\n",
    "x=x-y\n",
    "   \n",
    "print (\"The Value of P after swapping: \", x)  \n",
    "print (\"The Value of Q after swapping: \", y)"
   ]
  },
  {
   "cell_type": "code",
   "execution_count": 2,
   "id": "3d45e926-5b34-4a82-9590-ec45a8fda1be",
   "metadata": {},
   "outputs": [
    {
     "name": "stdin",
     "output_type": "stream",
     "text": [
      "Please enter length 10\n",
      "Please enter width 20\n"
     ]
    },
    {
     "name": "stdout",
     "output_type": "stream",
     "text": [
      "Area of the rectangle is =  200\n"
     ]
    }
   ],
   "source": [
    "# 2. Create a program that calculates the area of a rectangle. Take the length and\n",
    "# width as inputs from the user and store them in variables. Calculate and\n",
    "# display the area.\n",
    "\n",
    "x=int(input(\"Please enter length\"))\n",
    "y=int(input(\"Please enter width\"))\n",
    "\n",
    "a=x*y\n",
    "\n",
    "print (\"Area of the rectangle is = \", a)"
   ]
  },
  {
   "cell_type": "code",
   "execution_count": 3,
   "id": "dc7c70c0-a9b0-4508-81b7-5f2557444ebb",
   "metadata": {},
   "outputs": [
    {
     "name": "stdin",
     "output_type": "stream",
     "text": [
      "Please enter Temparature 25\n"
     ]
    },
    {
     "name": "stdout",
     "output_type": "stream",
     "text": [
      "Temparature in Farenheit is =  77.0\n"
     ]
    }
   ],
   "source": [
    "# 3. Write a Python program that converts temperatures from Celsius to\n",
    "# Fahrenheit. Take the temperature in Celsius as input, store it in a variable,\n",
    "# convert it to Fahrenheit, and display the result.\n",
    "\n",
    "c=int(input(\"Please enter Temparature\"))\n",
    "f=((9*c)/5)+32\n",
    "print (\"Temparature in Farenheit is = \", f)\n"
   ]
  },
  {
   "cell_type": "code",
   "execution_count": null,
   "id": "007dcc90-8afe-4df4-9138-3463313873ce",
   "metadata": {},
   "outputs": [],
   "source": [
    "# TOPIC: String Based Questions"
   ]
  },
  {
   "cell_type": "code",
   "execution_count": 1,
   "id": "f1f7a2a0-ddfd-4c3a-beb1-669e8786826c",
   "metadata": {},
   "outputs": [
    {
     "name": "stdin",
     "output_type": "stream",
     "text": [
      "Enter a string:  arpan\n"
     ]
    },
    {
     "name": "stdout",
     "output_type": "stream",
     "text": [
      "Length of the input string is: 5\n"
     ]
    }
   ],
   "source": [
    "# 1. Write a Python program that takes a string as input and prints the length of\n",
    "# the string.\n",
    "\n",
    "str = input(\"Enter a string: \")\n",
    "print(\"Length of the input string is:\", len(str))"
   ]
  },
  {
   "cell_type": "code",
   "execution_count": 9,
   "id": "969c12fc-3ad2-486a-917e-bc26d322e2fe",
   "metadata": {},
   "outputs": [
    {
     "name": "stdin",
     "output_type": "stream",
     "text": [
      "Enter a string:  arpan\n"
     ]
    },
    {
     "name": "stdout",
     "output_type": "stream",
     "text": [
      "2\n"
     ]
    }
   ],
   "source": [
    "# Create a program that takes a sentence from the user and counts the number\n",
    "# of vowels (a, e, i, o, u) in the string.\n",
    "\n",
    "string = input(\"Enter a string: \")\n",
    "vowels = \"aeiouAEIOU\"\n",
    " \n",
    "count = sum(string.count(vowel) for vowel in vowels)\n",
    "print(count)\n"
   ]
  },
  {
   "cell_type": "code",
   "execution_count": 15,
   "id": "e4268b2e-286e-4ae4-a5fa-efe265817e73",
   "metadata": {},
   "outputs": [
    {
     "name": "stdin",
     "output_type": "stream",
     "text": [
      "Enter a string:  arpan\n"
     ]
    },
    {
     "name": "stdout",
     "output_type": "stream",
     "text": [
      "str\n"
     ]
    }
   ],
   "source": [
    "# 3. Given a string, reverse the order of characters using string slicing and print\n",
    "# the reversed string.\n",
    "\n",
    "str = input(\"Enter a string: \")[::-1]\n",
    "print(str)"
   ]
  },
  {
   "cell_type": "code",
   "execution_count": 25,
   "id": "582622e3-dfba-4423-a5d3-da5e7b071ce7",
   "metadata": {},
   "outputs": [
    {
     "name": "stdin",
     "output_type": "stream",
     "text": [
      "Enter a string:  rar\n"
     ]
    },
    {
     "name": "stdout",
     "output_type": "stream",
     "text": [
      "Yes\n"
     ]
    }
   ],
   "source": [
    "# Write a program that takes a string as input and checks if it is a palindrome\n",
    "# (reads the same forwards and backwards).\n",
    "string = input(\"Enter a string: \")\n",
    " \n",
    "rev=string[::-1]\n",
    "\n",
    "if (string == rev):\n",
    "    print(\"Yes palindrom\")\n",
    "else:\n",
    "    print(\"Not palindrom\")\n",
    "\n",
    "\n"
   ]
  },
  {
   "cell_type": "code",
   "execution_count": 26,
   "id": "af32e1a1-8cc9-4c65-aea5-0034e7f328b7",
   "metadata": {},
   "outputs": [
    {
     "name": "stdin",
     "output_type": "stream",
     "text": [
      "Enter a string to remove white spaces: my name is arpan\n"
     ]
    },
    {
     "name": "stdout",
     "output_type": "stream",
     "text": [
      "String after removing all the white spaces : mynameisarpan\n"
     ]
    }
   ],
   "source": [
    "# 5. Create a program that takes a string as input and removes all the spaces from\n",
    "# it. Print the modified string without spaces.    \n",
    "\n",
    "str1 = input(\"Enter a string to remove white spaces:\")\n",
    " \n",
    "str1 = str1.replace(\" \",\"\");  \n",
    "          \n",
    "print(\"String after removing all the white spaces : \" + str1);  "
   ]
  },
  {
   "cell_type": "code",
   "execution_count": null,
   "id": "69f53af9-71f1-4ecf-9f1d-b6f66113bcbc",
   "metadata": {},
   "outputs": [],
   "source": []
  }
 ],
 "metadata": {
  "kernelspec": {
   "display_name": "Python 3 (ipykernel)",
   "language": "python",
   "name": "python3"
  },
  "language_info": {
   "codemirror_mode": {
    "name": "ipython",
    "version": 3
   },
   "file_extension": ".py",
   "mimetype": "text/x-python",
   "name": "python",
   "nbconvert_exporter": "python",
   "pygments_lexer": "ipython3",
   "version": "3.10.8"
  }
 },
 "nbformat": 4,
 "nbformat_minor": 5
}
